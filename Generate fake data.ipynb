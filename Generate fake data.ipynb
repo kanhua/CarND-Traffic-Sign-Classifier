{
 "cells": [
  {
   "cell_type": "code",
   "execution_count": 1,
   "metadata": {
    "collapsed": true
   },
   "outputs": [],
   "source": [
    "from skimage import data\n",
    "from skimage.transform import rotate\n",
    "import matplotlib.pyplot as plt\n",
    "%matplotlib inline"
   ]
  },
  {
   "cell_type": "code",
   "execution_count": 2,
   "metadata": {
    "collapsed": false
   },
   "outputs": [],
   "source": [
    "# Load pickled data\n",
    "import pickle\n",
    "import numpy as np\n",
    "from sklearn.base import BaseEstimator\n",
    "from sklearn.pipeline import Pipeline\n",
    "\n",
    "# TODO: Fill this in based on where you saved the training and testing data\n",
    "\n",
    "training_file = \"./traffic-signs-data/train.p\"\n",
    "testing_file = \"./traffic-signs-data/test.p\"\n",
    "\n",
    "with open(training_file, mode='rb') as f:\n",
    "    train = pickle.load(f)\n",
    "with open(testing_file, mode='rb') as f:\n",
    "    test = pickle.load(f)\n",
    "    \n",
    "raw_X_train, raw_y_train = train['features'], train['labels']\n",
    "raw_X_test, raw_y_test = test['features'], test['labels']"
   ]
  },
  {
   "cell_type": "code",
   "execution_count": 3,
   "metadata": {
    "collapsed": false
   },
   "outputs": [
    {
     "data": {
      "text/plain": [
       "<matplotlib.image.AxesImage at 0x7f16bb6d4438>"
      ]
     },
     "execution_count": 3,
     "metadata": {},
     "output_type": "execute_result"
    },
    {
     "data": {
      "image/png": "[encoded data removed]",
      "text/plain": [
       "<matplotlib.figure.Figure at 0x7f16f8430550>"
      ]
     },
     "metadata": {},
     "output_type": "display_data"
    }
   ],
   "source": [
    "plt.imshow(raw_X_train[0])"
   ]
  },
  {
   "cell_type": "markdown",
   "metadata": {},
   "source": [
    "## Enlarge the data set using the geometrical symmetries of traffic signs"
   ]
  },
  {
   "cell_type": "code",
   "execution_count": null,
   "metadata": {
    "collapsed": true
   },
   "outputs": [],
   "source": [
    "### Symmetry in up-and-down direction"
   ]
  },
  {
   "cell_type": "code",
   "execution_count": 28,
   "metadata": {
    "collapsed": false
   },
   "outputs": [],
   "source": [
    "def ud_flip(X,y):\n",
    "    labels=np.array([11, 12, 13, 15, 17, 18, 22, 26, 30, 35,32,40])\n",
    "    \n",
    "    idx=np.in1d(y,labels)\n",
    "    new_X=X[idx,:,::-1,:]\n",
    "    new_y=y[idx]\n",
    "    \n",
    "    return new_X,new_y,idx"
   ]
  },
  {
   "cell_type": "code",
   "execution_count": null,
   "metadata": {
    "collapsed": true
   },
   "outputs": [],
   "source": [
    "nX,ny,idx=ud_flip(raw_X_train,raw_y_train)"
   ]
  },
  {
   "cell_type": "code",
   "execution_count": null,
   "metadata": {
    "collapsed": true
   },
   "outputs": [],
   "source": []
  },
  {
   "cell_type": "code",
   "execution_count": 5,
   "metadata": {
    "collapsed": false
   },
   "outputs": [],
   "source": [
    "def lr_flip(X,y):\n",
    "    labels=np.array([1, 5, 12, 15, 17,32,40])\n",
    "    idx=np.in1d(y,labels)\n",
    "    new_X=X[idx,::-1,:,:]\n",
    "    new_y=y[idx]\n",
    "    \n",
    "    return new_X,new_y"
   ]
  },
  {
   "cell_type": "code",
   "execution_count": 6,
   "metadata": {
    "collapsed": true
   },
   "outputs": [],
   "source": [
    "def cross_flip(X,y):\n",
    "        \n",
    "    flip_pair=[(19, 20), (33, 34), (36, 37), (38, 39), (20, 19), (34, 33), (37, 36), (39, 38)] \n",
    "    \n",
    "    pair_X=[]\n",
    "    pair_y=[]\n",
    "    for fp in flip_pair:\n",
    "        idx_1= y==fp[0]\n",
    "        idx_2= y==fp[1]\n",
    "        \n",
    "        nX_1=X[idx_1,:,::-1,:]\n",
    "        ny_1=np.ones(nX_1.shape[0])*fp[1]\n",
    "        \n",
    "        nX_2=X[idx_2,:,::-1,:]\n",
    "        ny_2=np.ones(nX_2.shape[0])*fp[0]\n",
    "        \n",
    "        pair_X.append(nX_1)\n",
    "        pair_X.append(nX_2)\n",
    "        \n",
    "        pair_y.append(ny_1)\n",
    "        pair_y.append(ny_2)\n",
    "        \n",
    "    return np.concatenate(pair_X,axis=0),np.concatenate(pair_y,axis=0)\n"
   ]
  },
  {
   "cell_type": "code",
   "execution_count": 25,
   "metadata": {
    "collapsed": false
   },
   "outputs": [],
   "source": [
    "import cv2\n",
    "def rotate_image(image):\n",
    "    \n",
    "    rows=image.shape[0]\n",
    "    cols=image.shape[1]\n",
    "    \n",
    "    M = cv2.getRotationMatrix2D((cols/2,rows/2),np.random.uniform(-15,15),1)\n",
    "    new_image = cv2.warpAffine(image,M,(cols,rows))\n",
    "    return new_image\n",
    "    \n",
    "\n",
    "def batch_rotate(X):\n",
    "    new_X=np.zeros_like(X)\n",
    "    for i in range(X.shape[0]):\n",
    "        new_X[i]=rotate_image(X[i])\n",
    "    return X"
   ]
  },
  {
   "cell_type": "code",
   "execution_count": 26,
   "metadata": {
    "collapsed": false
   },
   "outputs": [],
   "source": [
    "def warp_image(image,move_range=3):\n",
    "\n",
    "    # get dimensions of image\n",
    "    rows,cols,ch = image.shape\n",
    "    # calculate transform\n",
    "\n",
    "    start_pt = np.float32([[6, 6],[24, 6],[6, 24]])\n",
    "    transformed_pt=np.zeros_like(start_pt)\n",
    "    for idx in range(3):\n",
    "        lr_move=np.random.randint(-move_range,move_range+1)\n",
    "        ud_move=np.random.randint(-move_range,move_range+1)\n",
    "        transformed_pt[idx,0]=start_pt[idx,0]+lr_move\n",
    "        transformed_pt[idx,1]=start_pt[idx,1]+ud_move\n",
    "\n",
    "\n",
    "    M = cv2.getAffineTransform(start_pt,transformed_pt)\n",
    "    warped = cv2.warpAffine(image,M,(cols,rows))\n",
    "\n",
    "    return warped\n",
    "\n",
    "def batch_warp(X):\n",
    "    \n",
    "    nX=np.zeros_like(X)\n",
    "    for i in range(X.shape[0]):\n",
    "        nX[i]=warp_image(X[i])\n",
    "    \n",
    "    return nX"
   ]
  },
  {
   "cell_type": "code",
   "execution_count": 12,
   "metadata": {
    "collapsed": false
   },
   "outputs": [],
   "source": [
    "\n",
    "uX,uy=lr_flip(raw_X_train,raw_y_train)"
   ]
  },
  {
   "cell_type": "code",
   "execution_count": 13,
   "metadata": {
    "collapsed": true
   },
   "outputs": [],
   "source": [
    "fpX,fpy=cross_flip(raw_X_train,raw_y_train)"
   ]
  },
  {
   "cell_type": "markdown",
   "metadata": {},
   "source": [
    "### Warp images\n",
    "Show 5 randomly warped images."
   ]
  },
  {
   "cell_type": "code",
   "execution_count": 18,
   "metadata": {
    "collapsed": false
   },
   "outputs": [
    {
     "data": {
      "image/png": "[encoded data removed]",
      "text/plain": [
       "<matplotlib.figure.Figure at 0x7f169fa41320>"
      ]
     },
     "metadata": {},
     "output_type": "display_data"
    },
    {
     "data": {
      "image/png": "[encoded data removed]",
      "text/plain": [
       "<matplotlib.figure.Figure at 0x7f169fa41b70>"
      ]
     },
     "metadata": {},
     "output_type": "display_data"
    }
   ],
   "source": [
    "#choose an image\n",
    "img_id=np.random.randint(raw_y_train.shape[0])\n",
    "orig_img=raw_X_train[img_id]\n",
    "plt.imshow(orig_img)\n",
    "warp_attempt=5\n",
    "f,ax=plt.subplots(1,warp_attempt)\n",
    "for i in range(warp_attempt):\n",
    "    ax[i].imshow(warp_image(orig_img))"
   ]
  },
  {
   "cell_type": "code",
   "execution_count": 20,
   "metadata": {
    "collapsed": false
   },
   "outputs": [],
   "source": [
    "total_warp_copy=3\n",
    "\n",
    "X_list=[]\n",
    "y_list=[]\n",
    "for i in range(total_warp_copy):\n",
    "    afX=batch_warp(raw_X_train)\n",
    "    afy=raw_y_train\n",
    "    X_list.append(afX)\n",
    "    y_list.append(afy)\n",
    "\n",
    "afX=np.concatenate(X_list,axis=0)\n",
    "afy=np.concatenate(y_list,axis=0)"
   ]
  },
  {
   "cell_type": "markdown",
   "metadata": {},
   "source": [
    "## Rotate images"
   ]
  },
  {
   "cell_type": "code",
   "execution_count": 27,
   "metadata": {
    "collapsed": false
   },
   "outputs": [
    {
     "data": {
      "image/png": "[encoded data removed]",
      "text/plain": [
       "<matplotlib.figure.Figure at 0x7f169f7c9390>"
      ]
     },
     "metadata": {},
     "output_type": "display_data"
    },
    {
     "data": {
      "image/png": "[encoded data removed]",
      "text/plain": [
       "<matplotlib.figure.Figure at 0x7f169f7c9a90>"
      ]
     },
     "metadata": {},
     "output_type": "display_data"
    }
   ],
   "source": [
    "#choose an image\n",
    "img_id=np.random.randint(raw_y_train.shape[0])\n",
    "orig_img=raw_X_train[img_id]\n",
    "plt.imshow(orig_img)\n",
    "rotate_attempt=5\n",
    "f,ax=plt.subplots(1,rotate_attempt)\n",
    "for i in range(rotate_attempt):\n",
    "    ax[i].imshow(rotate_image(orig_img))"
   ]
  },
  {
   "cell_type": "code",
   "execution_count": 21,
   "metadata": {
    "collapsed": false
   },
   "outputs": [],
   "source": [
    "import copy\n",
    "rX=batch_rotate(copy.copy(raw_X_train))\n",
    "ry=raw_y_train\n",
    "assert rX.shape[0]==ry.shape[0]"
   ]
  },
  {
   "cell_type": "markdown",
   "metadata": {},
   "source": [
    "## Write all the results into a file"
   ]
  },
  {
   "cell_type": "code",
   "execution_count": 24,
   "metadata": {
    "collapsed": false
   },
   "outputs": [],
   "source": [
    "aug_train={}\n",
    "aug_train['horiz_sym_features']=nX\n",
    "aug_train['horiz_sym_labels']=ny\n",
    "aug_train['vert_sym_features']=uX\n",
    "aug_train['vert_sym_labels']=uy\n",
    "aug_train['fp_features']=fpX\n",
    "aug_train['fp_labels']=fpy\n",
    "aug_train['rotate_features']=rX\n",
    "aug_train['rotate_lables']=ry\n",
    "aug_train['affine_features']=afX\n",
    "aug_train['affine_labels']=afy\n",
    "aug_training_file=\"./traffic-signs-data/aug_train.p\"\n",
    "with open(aug_training_file, mode='wb') as f:\n",
    "    pickle.dump(aug_train,f)"
   ]
  },
  {
   "cell_type": "code",
   "execution_count": null,
   "metadata": {
    "collapsed": true
   },
   "outputs": [],
   "source": []
  }
 ],
 "metadata": {
  "kernelspec": {
   "display_name": "Python 3",
   "language": "python",
   "name": "python3"
  },
  "language_info": {
   "codemirror_mode": {
    "name": "ipython",
    "version": 3
   },
   "file_extension": ".py",
   "mimetype": "text/x-python",
   "name": "python",
   "nbconvert_exporter": "python",
   "pygments_lexer": "ipython3",
   "version": "3.5.2"
  },
  "widgets": {
   "state": {},
   "version": "1.1.2"
  }
 },
 "nbformat": 4,
 "nbformat_minor": 2
}
